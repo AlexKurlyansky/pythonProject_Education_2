{
 "cells": [
  {
   "cell_type": "code",
   "execution_count": 34,
   "id": "3aadac28",
   "metadata": {},
   "outputs": [],
   "source": [
    "import numpy as np"
   ]
  },
  {
   "cell_type": "code",
   "execution_count": 35,
   "id": "8b2fc460",
   "metadata": {},
   "outputs": [],
   "source": [
    "a = np.array([[1,2,3,3,1],[6,8,11,10,7]])"
   ]
  },
  {
   "cell_type": "code",
   "execution_count": 36,
   "id": "e349f8d3",
   "metadata": {},
   "outputs": [],
   "source": [
    "a.resize(5,2)"
   ]
  },
  {
   "cell_type": "code",
   "execution_count": 37,
   "id": "7b3ee012",
   "metadata": {},
   "outputs": [
    {
     "data": {
      "text/plain": [
       "array([[ 1,  2],\n",
       "       [ 3,  3],\n",
       "       [ 1,  6],\n",
       "       [ 8, 11],\n",
       "       [10,  7]])"
      ]
     },
     "execution_count": 37,
     "metadata": {},
     "output_type": "execute_result"
    }
   ],
   "source": [
    "a"
   ]
  },
  {
   "cell_type": "code",
   "execution_count": 38,
   "id": "e42301ec",
   "metadata": {},
   "outputs": [],
   "source": [
    "a[1,0] = 2"
   ]
  },
  {
   "cell_type": "code",
   "execution_count": 39,
   "id": "82315f0d",
   "metadata": {},
   "outputs": [],
   "source": [
    "a[2,0] = 3"
   ]
  },
  {
   "cell_type": "code",
   "execution_count": 40,
   "id": "f0f8cb9c",
   "metadata": {},
   "outputs": [],
   "source": [
    "a[3,0] = 3"
   ]
  },
  {
   "cell_type": "code",
   "execution_count": 41,
   "id": "645c29d2",
   "metadata": {},
   "outputs": [],
   "source": [
    "a[4,0] = 1"
   ]
  },
  {
   "cell_type": "code",
   "execution_count": 42,
   "id": "273207b0",
   "metadata": {},
   "outputs": [
    {
     "data": {
      "text/plain": [
       "array([[ 1,  2],\n",
       "       [ 2,  3],\n",
       "       [ 3,  6],\n",
       "       [ 3, 11],\n",
       "       [ 1,  7]])"
      ]
     },
     "execution_count": 42,
     "metadata": {},
     "output_type": "execute_result"
    }
   ],
   "source": [
    "a"
   ]
  },
  {
   "cell_type": "code",
   "execution_count": 50,
   "id": "ad1262ab",
   "metadata": {},
   "outputs": [],
   "source": [
    "a[0,1] = 6"
   ]
  },
  {
   "cell_type": "code",
   "execution_count": 44,
   "id": "ec8c9ec7",
   "metadata": {},
   "outputs": [],
   "source": [
    "a[1,1] = 8"
   ]
  },
  {
   "cell_type": "code",
   "execution_count": 47,
   "id": "633d0f82",
   "metadata": {},
   "outputs": [],
   "source": [
    "a[2,1] = 11"
   ]
  },
  {
   "cell_type": "code",
   "execution_count": 52,
   "id": "dfa80661",
   "metadata": {},
   "outputs": [],
   "source": [
    "a[3,1] = 10"
   ]
  },
  {
   "cell_type": "code",
   "execution_count": 54,
   "id": "7129b2ee",
   "metadata": {},
   "outputs": [
    {
     "data": {
      "text/plain": [
       "array([[ 1,  6],\n",
       "       [ 2,  8],\n",
       "       [ 3, 11],\n",
       "       [ 3, 10],\n",
       "       [ 1,  7]])"
      ]
     },
     "execution_count": 54,
     "metadata": {},
     "output_type": "execute_result"
    }
   ],
   "source": [
    "a"
   ]
  },
  {
   "cell_type": "code",
   "execution_count": 55,
   "id": "fac30979",
   "metadata": {},
   "outputs": [],
   "source": [
    "mean_a = a.mean(axis = 0)"
   ]
  },
  {
   "cell_type": "code",
   "execution_count": 56,
   "id": "8493a334",
   "metadata": {},
   "outputs": [
    {
     "data": {
      "text/plain": [
       "array([2. , 8.4])"
      ]
     },
     "execution_count": 56,
     "metadata": {},
     "output_type": "execute_result"
    }
   ],
   "source": [
    "mean_a"
   ]
  },
  {
   "cell_type": "code",
   "execution_count": 57,
   "id": "fc185db2",
   "metadata": {},
   "outputs": [],
   "source": [
    "a_centered = a - mean_a"
   ]
  },
  {
   "cell_type": "code",
   "execution_count": 60,
   "id": "3e62c460",
   "metadata": {},
   "outputs": [
    {
     "data": {
      "text/plain": [
       "array([[-1. , -2.4],\n",
       "       [ 0. , -0.4],\n",
       "       [ 1. ,  2.6],\n",
       "       [ 1. ,  1.6],\n",
       "       [-1. , -1.4]])"
      ]
     },
     "execution_count": 60,
     "metadata": {},
     "output_type": "execute_result"
    }
   ],
   "source": [
    "a_centered"
   ]
  },
  {
   "cell_type": "code",
   "execution_count": 62,
   "id": "c59b3d06",
   "metadata": {},
   "outputs": [],
   "source": [
    "a_centered_sp = a_centered.T[0] @ a_centered.T[1]"
   ]
  },
  {
   "cell_type": "code",
   "execution_count": 63,
   "id": "7bc8640b",
   "metadata": {},
   "outputs": [
    {
     "data": {
      "text/plain": [
       "8.0"
      ]
     },
     "execution_count": 63,
     "metadata": {},
     "output_type": "execute_result"
    }
   ],
   "source": [
    "a_centered_sp"
   ]
  },
  {
   "cell_type": "code",
   "execution_count": 64,
   "id": "66ffad9e",
   "metadata": {},
   "outputs": [
    {
     "data": {
      "text/plain": [
       "0.6000000000000001"
      ]
     },
     "execution_count": 64,
     "metadata": {},
     "output_type": "execute_result"
    }
   ],
   "source": [
    "a_centered_sp / a.shape[0] - 1"
   ]
  },
  {
   "cell_type": "code",
   "execution_count": 65,
   "id": "060b88d5",
   "metadata": {},
   "outputs": [
    {
     "data": {
      "text/plain": [
       "2.0"
      ]
     },
     "execution_count": 65,
     "metadata": {},
     "output_type": "execute_result"
    }
   ],
   "source": [
    "np.cov(a.T)[0,1]"
   ]
  },
  {
   "cell_type": "code",
   "execution_count": null,
   "id": "5856fa29",
   "metadata": {},
   "outputs": [],
   "source": []
  }
 ],
 "metadata": {
  "kernelspec": {
   "display_name": "Python 3 (ipykernel)",
   "language": "python",
   "name": "python3"
  },
  "language_info": {
   "codemirror_mode": {
    "name": "ipython",
    "version": 3
   },
   "file_extension": ".py",
   "mimetype": "text/x-python",
   "name": "python",
   "nbconvert_exporter": "python",
   "pygments_lexer": "ipython3",
   "version": "3.9.12"
  }
 },
 "nbformat": 4,
 "nbformat_minor": 5
}
